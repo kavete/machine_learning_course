{
 "cells": [
  {
   "cell_type": "markdown",
   "id": "92c44f83-2050-4c12-88f2-dff52cf85e31",
   "metadata": {},
   "source": [
    "# Hello Jupyter"
   ]
  },
  {
   "cell_type": "code",
   "execution_count": 1,
   "id": "e5a88310-f0c4-4428-8d35-d31e3c9af473",
   "metadata": {},
   "outputs": [
    {
     "data": {
      "text/plain": [
       "10"
      ]
     },
     "execution_count": 1,
     "metadata": {},
     "output_type": "execute_result"
    }
   ],
   "source": [
    "5+5"
   ]
  },
  {
   "cell_type": "code",
   "execution_count": 2,
   "id": "24c893cf-b7cf-4faa-9d45-e27f7ce1baff",
   "metadata": {},
   "outputs": [],
   "source": [
    "import pandas as pd\n",
    "import numpy as np\n",
    "import matplotlib.pyplot as plt\n",
    "import sklearn"
   ]
  },
  {
   "cell_type": "code",
   "execution_count": 3,
   "id": "221d6d41-a9a2-418c-a760-f7aef597d337",
   "metadata": {},
   "outputs": [
    {
     "data": {
      "text/plain": [
       "<function dir>"
      ]
     },
     "execution_count": 3,
     "metadata": {},
     "output_type": "execute_result"
    }
   ],
   "source": [
    "dir"
   ]
  },
  {
   "cell_type": "code",
   "execution_count": 5,
   "id": "92786b9f-ba72-459a-aa54-a49d1aa40814",
   "metadata": {},
   "outputs": [
    {
     "name": "stdout",
     "output_type": "stream",
     "text": [
      " Volume in drive C has no label.\n",
      " Volume Serial Number is A8FB-CF28\n",
      "\n",
      " Directory of C:\\Users\\brian\\Documents\\MachineLearning\n",
      "\n",
      "05/14/2025  09:00 PM    <DIR>          .\n",
      "05/14/2025  02:31 PM    <DIR>          ..\n",
      "05/14/2025  08:52 PM    <DIR>          .ipynb_checkpoints\n",
      "05/14/2025  03:23 PM    <DIR>          env\n",
      "05/14/2025  03:11 PM    <DIR>          first_project\n",
      "05/14/2025  09:00 PM             2,705 walkthrough.ipynb\n",
      "               1 File(s)          2,705 bytes\n",
      "               5 Dir(s)  176,784,334,848 bytes free\n"
     ]
    }
   ],
   "source": [
    "!dir"
   ]
  },
  {
   "cell_type": "code",
   "execution_count": null,
   "id": "00918076-a377-4371-ba3a-971937af505d",
   "metadata": {},
   "outputs": [],
   "source": []
  }
 ],
 "metadata": {
  "kernelspec": {
   "display_name": "env",
   "language": "python",
   "name": "python3"
  },
  "language_info": {
   "codemirror_mode": {
    "name": "ipython",
    "version": 3
   },
   "file_extension": ".py",
   "mimetype": "text/x-python",
   "name": "python",
   "nbconvert_exporter": "python",
   "pygments_lexer": "ipython3",
   "version": "3.13.2"
  }
 },
 "nbformat": 4,
 "nbformat_minor": 5
}
